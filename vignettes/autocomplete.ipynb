{
 "cells": [
  {
   "cell_type": "code",
   "execution_count": 1,
   "metadata": {},
   "outputs": [],
   "source": [
    "import pandas as pd\n",
    "from siuba import *"
   ]
  },
  {
   "cell_type": "code",
   "execution_count": 2,
   "metadata": {},
   "outputs": [],
   "source": [
    "from siuba.data import mtcars"
   ]
  },
  {
   "cell_type": "code",
   "execution_count": 3,
   "metadata": {},
   "outputs": [
    {
     "data": {
      "text/html": [
       "<div>\n",
       "<style scoped>\n",
       "    .dataframe tbody tr th:only-of-type {\n",
       "        vertical-align: middle;\n",
       "    }\n",
       "\n",
       "    .dataframe tbody tr th {\n",
       "        vertical-align: top;\n",
       "    }\n",
       "\n",
       "    .dataframe thead th {\n",
       "        text-align: right;\n",
       "    }\n",
       "</style>\n",
       "<table border=\"1\" class=\"dataframe\">\n",
       "  <thead>\n",
       "    <tr style=\"text-align: right;\">\n",
       "      <th></th>\n",
       "      <th>sum</th>\n",
       "    </tr>\n",
       "  </thead>\n",
       "  <tbody>\n",
       "    <tr>\n",
       "      <th>0</th>\n",
       "      <td>4694</td>\n",
       "    </tr>\n",
       "  </tbody>\n",
       "</table>\n",
       "</div>"
      ],
      "text/plain": [
       "    sum\n",
       "0  4694"
      ]
     },
     "execution_count": 3,
     "metadata": {},
     "output_type": "execute_result"
    }
   ],
   "source": [
    "summarize(mtcars, sum=_.hp.sum())"
   ]
  },
  {
   "cell_type": "code",
   "execution_count": 4,
   "metadata": {},
   "outputs": [],
   "source": [
    "d = pd.DataFrame(dict(a=[1], b=[-2]))"
   ]
  },
  {
   "cell_type": "code",
   "execution_count": null,
   "metadata": {},
   "outputs": [],
   "source": []
  },
  {
   "cell_type": "code",
   "execution_count": null,
   "metadata": {},
   "outputs": [],
   "source": []
  },
  {
   "cell_type": "code",
   "execution_count": null,
   "metadata": {},
   "outputs": [],
   "source": []
  },
  {
   "cell_type": "code",
   "execution_count": null,
   "metadata": {},
   "outputs": [],
   "source": []
  },
  {
   "cell_type": "code",
   "execution_count": null,
   "metadata": {},
   "outputs": [],
   "source": [
    "summarize(mtcars, sum=_.hp.sum())"
   ]
  },
  {
   "cell_type": "code",
   "execution_count": 14,
   "metadata": {},
   "outputs": [
    {
     "data": {
      "text/html": [
       "<div>\n",
       "<style scoped>\n",
       "    .dataframe tbody tr th:only-of-type {\n",
       "        vertical-align: middle;\n",
       "    }\n",
       "\n",
       "    .dataframe tbody tr th {\n",
       "        vertical-align: top;\n",
       "    }\n",
       "\n",
       "    .dataframe thead th {\n",
       "        text-align: right;\n",
       "    }\n",
       "</style>\n",
       "<table border=\"1\" class=\"dataframe\">\n",
       "  <thead>\n",
       "    <tr style=\"text-align: right;\">\n",
       "      <th></th>\n",
       "      <th>a</th>\n",
       "      <th>b</th>\n",
       "      <th>c</th>\n",
       "    </tr>\n",
       "  </thead>\n",
       "  <tbody>\n",
       "    <tr>\n",
       "      <th>0</th>\n",
       "      <td>1</td>\n",
       "      <td>2</td>\n",
       "      <td>3</td>\n",
       "    </tr>\n",
       "  </tbody>\n",
       "</table>\n",
       "</div>"
      ],
      "text/plain": [
       "   a  b  c\n",
       "0  1  2  3"
      ]
     },
     "execution_count": 14,
     "metadata": {},
     "output_type": "execute_result"
    }
   ],
   "source": [
    "mutate(d, c=_.a + _.b.abs())"
   ]
  },
  {
   "cell_type": "code",
   "execution_count": null,
   "metadata": {},
   "outputs": [],
   "source": []
  },
  {
   "cell_type": "code",
   "execution_count": 13,
   "metadata": {},
   "outputs": [],
   "source": [
    "from IPython.core.history import HistoryAccessor"
   ]
  },
  {
   "cell_type": "code",
   "execution_count": 14,
   "metadata": {},
   "outputs": [],
   "source": [
    "history = HistoryAccessor()"
   ]
  },
  {
   "cell_type": "code",
   "execution_count": 15,
   "metadata": {},
   "outputs": [
    {
     "data": {
      "text/plain": [
       "['%who_ls',\n",
       " '_.drat + _.a',\n",
       " '_.drat + _.a',\n",
       " 'In',\n",
       " \"mtcars in 'from siuba.data import mtcars'\",\n",
       " \"'mtcars' in 'from siuba.data import mtcars'\",\n",
       " 'def return_df(dfs, commands):\\n    if not dfs:\\n        return []\\n    \\n    for command in reversed(commands):\\n        exact_match = [df for df in dfs if df in command]\\n        if exact_match:\\n            return exact_match[0]\\n        \\n        assign_match = [df for df in dfs if command.startswith(df + \" = \")]\\n        if assign_match:\\n            return assign_match[0]\\n        \\n        in_expression = [df for df in dfs if df + \",\" in command or df + \")\" in command]\\n        if in_expression:\\n            return in_expression[0]\\n        \\n    return dfs[0]\\n        ',\n",
       " 'return_df(dfs, commands)',\n",
       " '[command for _, _, command in history.get_tail()]',\n",
       " 'from IPython.core.history import HistoryAccessor']"
      ]
     },
     "execution_count": 15,
     "metadata": {},
     "output_type": "execute_result"
    }
   ],
   "source": [
    "[command for _, _, command in history.get_tail()]"
   ]
  },
  {
   "cell_type": "code",
   "execution_count": 25,
   "metadata": {},
   "outputs": [],
   "source": [
    "commands = In"
   ]
  },
  {
   "cell_type": "code",
   "execution_count": 27,
   "metadata": {},
   "outputs": [],
   "source": [
    "dfs = %who_ls DataFrame"
   ]
  },
  {
   "cell_type": "code",
   "execution_count": 10,
   "metadata": {},
   "outputs": [],
   "source": [
    "def return_df(dfs, commands):\n",
    "    if not dfs:\n",
    "        return []\n",
    "    \n",
    "    for command in reversed(commands):\n",
    "        exact_match = [df for df in dfs if df in command]\n",
    "        if exact_match:\n",
    "            return exact_match[0]\n",
    "        \n",
    "        assign_match = [df for df in dfs if command.startswith(df + \" = \")]\n",
    "        if assign_match:\n",
    "            return assign_match[0]\n",
    "        \n",
    "        in_expression = [df for df in dfs if df + \",\" in command or df + \")\" in command]\n",
    "        if in_expression:\n",
    "            return in_expression[0]\n",
    "        \n",
    "    return dfs[0]\n",
    "        "
   ]
  },
  {
   "cell_type": "code",
   "execution_count": 11,
   "metadata": {},
   "outputs": [
    {
     "ename": "NameError",
     "evalue": "name 'dfs' is not defined",
     "output_type": "error",
     "traceback": [
      "\u001b[0;31m-----------------------------------------------------------------\u001b[0m",
      "\u001b[0;31mNameError\u001b[0m                       Traceback (most recent call last)",
      "\u001b[0;32m<ipython-input-11-dfc17f55f40f>\u001b[0m in \u001b[0;36m<module>\u001b[0;34m\u001b[0m\n\u001b[0;32m----> 1\u001b[0;31m \u001b[0mreturn_df\u001b[0m\u001b[0;34m(\u001b[0m\u001b[0mdfs\u001b[0m\u001b[0;34m,\u001b[0m \u001b[0mcommands\u001b[0m\u001b[0;34m)\u001b[0m\u001b[0;34m\u001b[0m\u001b[0;34m\u001b[0m\u001b[0m\n\u001b[0m",
      "\u001b[0;31mNameError\u001b[0m: name 'dfs' is not defined"
     ]
    }
   ],
   "source": [
    "return_df(dfs, commands)"
   ]
  },
  {
   "cell_type": "code",
   "execution_count": null,
   "metadata": {},
   "outputs": [],
   "source": [
    "class Shape2():\n",
    "    area = 1\n",
    "    perimeter = 1\n",
    "    location = 1\n",
    "\n",
    "    def __getitem__(self, key):\n",
    "        return getattr(self, key)\n",
    "    \n",
    "    def _ipython_key_completions_(self):\n",
    "        return [\"area\", \"perimeter\", \"location\"]"
   ]
  },
  {
   "cell_type": "code",
   "execution_count": null,
   "metadata": {},
   "outputs": [],
   "source": [
    "s = Shape2()"
   ]
  },
  {
   "cell_type": "code",
   "execution_count": null,
   "metadata": {},
   "outputs": [],
   "source": [
    "s[\"location\"]"
   ]
  },
  {
   "cell_type": "code",
   "execution_count": null,
   "metadata": {},
   "outputs": [],
   "source": []
  },
  {
   "cell_type": "code",
   "execution_count": null,
   "metadata": {},
   "outputs": [],
   "source": [
    "# dynamically objects to completion\n",
    "\n",
    "class Shape3():\n",
    "    area = 1\n",
    "    perimeter = 1\n",
    "    location = 1\n",
    "    shape_dict = {}\n",
    "\n",
    "    def __getitem__(self, key):\n",
    "        if hasattr(self, key):\n",
    "            return getattr(self, key)\n",
    "        \n",
    "        return self.shape_dict[key]\n",
    "    \n",
    "    def _ipython_key_completions_(self):\n",
    "\n",
    "        return [\"area\", \"perimeter\", \"location\"] + list(self.shape_dict)\n",
    "    \n",
    "    def add(self, key):\n",
    "        self.shape_dict[key] = True"
   ]
  },
  {
   "cell_type": "code",
   "execution_count": null,
   "metadata": {},
   "outputs": [],
   "source": [
    "s = Shape3()"
   ]
  },
  {
   "cell_type": "code",
   "execution_count": null,
   "metadata": {},
   "outputs": [],
   "source": [
    "s.add(\"new_key\")"
   ]
  },
  {
   "cell_type": "code",
   "execution_count": null,
   "metadata": {},
   "outputs": [],
   "source": [
    "# s[\"new<TAB>\n",
    "s[\"new_key\"]"
   ]
  },
  {
   "cell_type": "code",
   "execution_count": null,
   "metadata": {},
   "outputs": [],
   "source": []
  },
  {
   "cell_type": "code",
   "execution_count": null,
   "metadata": {},
   "outputs": [],
   "source": [
    "# dynamically objects to completion\n",
    "\n",
    "class Shape3():\n",
    "    _shape_dict = {}\n",
    "\n",
    "    def __getitem__(self, key):\n",
    "        if hasattr(self, key):\n",
    "            return getattr(self, key)\n",
    "        \n",
    "        return self._shape_dict[key]\n",
    "    \n",
    "    def add(self, key):\n",
    "        self._shape_dict[key] = True"
   ]
  },
  {
   "cell_type": "code",
   "execution_count": null,
   "metadata": {},
   "outputs": [],
   "source": [
    "from IPython.utils.generics import complete_object\n",
    "from functools import singledispatch\n",
    "\n",
    "@complete_object.register(Shape3)\n",
    "def complete_Shape3(obj, prev_completions):\n",
    "    return prev_completions + list(obj._shape_dict)"
   ]
  },
  {
   "cell_type": "code",
   "execution_count": null,
   "metadata": {},
   "outputs": [],
   "source": []
  },
  {
   "cell_type": "code",
   "execution_count": null,
   "metadata": {},
   "outputs": [],
   "source": [
    "s = Shape3()"
   ]
  },
  {
   "cell_type": "code",
   "execution_count": null,
   "metadata": {},
   "outputs": [],
   "source": [
    "s.add('new_key')"
   ]
  },
  {
   "cell_type": "code",
   "execution_count": null,
   "metadata": {},
   "outputs": [],
   "source": []
  },
  {
   "cell_type": "code",
   "execution_count": null,
   "metadata": {},
   "outputs": [],
   "source": [
    "s._shape_dict"
   ]
  },
  {
   "cell_type": "code",
   "execution_count": null,
   "metadata": {},
   "outputs": [],
   "source": [
    "s['ne']"
   ]
  },
  {
   "cell_type": "code",
   "execution_count": null,
   "metadata": {},
   "outputs": [],
   "source": []
  },
  {
   "cell_type": "code",
   "execution_count": 12,
   "metadata": {},
   "outputs": [],
   "source": [
    "class Shape4():\n",
    "    _shape_dict = {}\n",
    "\n",
    "    def __getitem__(self, key):\n",
    "        return self._shape_dict[key]\n",
    "    \n",
    "    def __dir__(self):\n",
    "        return list(self._shape_dict) + object.__dir__(self)\n",
    "    \n",
    "    def add(self, key):\n",
    "        self._shape_dict[key] = True"
   ]
  },
  {
   "cell_type": "code",
   "execution_count": 13,
   "metadata": {},
   "outputs": [],
   "source": [
    "s = Shape4()"
   ]
  },
  {
   "cell_type": "code",
   "execution_count": 14,
   "metadata": {},
   "outputs": [],
   "source": [
    "s.add(\"new_key\")"
   ]
  },
  {
   "cell_type": "code",
   "execution_count": 15,
   "metadata": {},
   "outputs": [],
   "source": [
    "s.add(\"test_key\")"
   ]
  },
  {
   "cell_type": "code",
   "execution_count": 17,
   "metadata": {},
   "outputs": [
    {
     "ename": "AttributeError",
     "evalue": "'Shape4' object has no attribute 'new_key'",
     "output_type": "error",
     "traceback": [
      "\u001b[0;31m-----------------------------------------------------------------\u001b[0m",
      "\u001b[0;31mAttributeError\u001b[0m                  Traceback (most recent call last)",
      "\u001b[0;32m<ipython-input-17-6a1b118f148b>\u001b[0m in \u001b[0;36m<module>\u001b[0;34m\u001b[0m\n\u001b[0;32m----> 1\u001b[0;31m \u001b[0ms\u001b[0m\u001b[0;34m.\u001b[0m\u001b[0mnew_key\u001b[0m\u001b[0;34m\u001b[0m\u001b[0;34m\u001b[0m\u001b[0m\n\u001b[0m",
      "\u001b[0;31mAttributeError\u001b[0m: 'Shape4' object has no attribute 'new_key'"
     ]
    }
   ],
   "source": [
    "s.new_key"
   ]
  },
  {
   "cell_type": "code",
   "execution_count": null,
   "metadata": {},
   "outputs": [],
   "source": []
  },
  {
   "cell_type": "code",
   "execution_count": 23,
   "metadata": {},
   "outputs": [
    {
     "data": {
      "text/plain": [
       "['',\n",
       " 'class Shape4():\\n    _shape_dict = {}\\n\\n    def __getitem__(self, key):\\n        return self._shape_dict[key]\\n    \\n    def __dir__(self):\\n        return list(self._shape_dict)\\n    \\n    def add(self, key):\\n        self._shape_dict[key] = True',\n",
       " 's = Shape4()',\n",
       " 's.add(\"new_key\")',\n",
       " 's',\n",
       " 's.new_key',\n",
       " 'class Shape4():\\n    _shape_dict = {}\\n\\n    def __getitem__(self, key):\\n        return self._shape_dict[key]\\n    \\n    def __dir__(self):\\n        return list(self._shape_dict) + object.__dir__(self)\\n    \\n    def add(self, key):\\n        self._shape_dict[key] = True',\n",
       " 's = Shape4()',\n",
       " 's.add(\"new_key\")',\n",
       " 's.new_key',\n",
       " 's.add(\"test_key\")',\n",
       " 's.test_key',\n",
       " 'class Shape4():\\n    _shape_dict = {}\\n\\n    def __getitem__(self, key):\\n        return self._shape_dict[key]\\n    \\n    def __dir__(self):\\n        return list(self._shape_dict) + object.__dir__(self)\\n    \\n    def add(self, key):\\n        self._shape_dict[key] = True',\n",
       " 's = Shape4()',\n",
       " 's.add(\"new_key\")',\n",
       " 's.add(\"test_key\")',\n",
       " 's.test_key',\n",
       " 's.new_key',\n",
       " 'globals()',\n",
       " 'In',\n",
       " 'Out',\n",
       " 'In',\n",
       " 'Out',\n",
       " 'Out[max(Out)]']"
      ]
     },
     "execution_count": 23,
     "metadata": {},
     "output_type": "execute_result"
    }
   ],
   "source": [
    "Out[max(Out)]"
   ]
  },
  {
   "cell_type": "code",
   "execution_count": 34,
   "metadata": {},
   "outputs": [
    {
     "name": "stdout",
     "output_type": "stream",
     "text": [
      "3\n"
     ]
    }
   ],
   "source": [
    "command_with_new_lines = 1\n",
    "command_with_new_lines2 = command_with_new_lines + 2\n",
    "print(command_with_new_lines2)\n",
    "command_with_new_lines2 = command_with_new_lines + 3"
   ]
  },
  {
   "cell_type": "code",
   "execution_count": null,
   "metadata": {},
   "outputs": [],
   "source": []
  },
  {
   "cell_type": "code",
   "execution_count": 25,
   "metadata": {},
   "outputs": [],
   "source": [
    "from IPython.core.history import HistoryAccessor"
   ]
  },
  {
   "cell_type": "code",
   "execution_count": 26,
   "metadata": {},
   "outputs": [],
   "source": [
    "h = HistoryAccessor()"
   ]
  },
  {
   "cell_type": "code",
   "execution_count": 35,
   "metadata": {},
   "outputs": [
    {
     "data": {
      "text/plain": [
       "[(134, 25, ('from IPython.core.history import HistoryAccessor', None)),\n",
       " (134, 26, ('h = HistoryAccessor()', None)),\n",
       " (134, 27, ('h.get_tail()', None)),\n",
       " (134, 28, ('[h.get_tail()]', None)),\n",
       " (134, 29, ('list(h.get_tail())', None)),\n",
       " (134,\n",
       "  30,\n",
       "  ('command_with_new_lines = 1\\ncommand_with_new_lines2 = command_with_new_lines + 2\\nprint(command_with_new_lines2)',\n",
       "   None)),\n",
       " (134, 31, ('list(h.get_tail())', None)),\n",
       " (134, 32, ('list(h.get_tail())', None)),\n",
       " (134, 33, ('list(h.get_tail(output=True))', None)),\n",
       " (134,\n",
       "  34,\n",
       "  ('command_with_new_lines = 1\\ncommand_with_new_lines2 = command_with_new_lines + 2\\nprint(command_with_new_lines2)\\ncommand_with_new_lines2 = command_with_new_lines + 3',\n",
       "   None))]"
      ]
     },
     "execution_count": 35,
     "metadata": {},
     "output_type": "execute_result"
    }
   ],
   "source": [
    "list(h.get_tail(output=True, include_latest=True))"
   ]
  },
  {
   "cell_type": "code",
   "execution_count": 44,
   "metadata": {},
   "outputs": [],
   "source": []
  },
  {
   "cell_type": "code",
   "execution_count": null,
   "metadata": {},
   "outputs": [],
   "source": []
  },
  {
   "cell_type": "code",
   "execution_count": null,
   "metadata": {},
   "outputs": [],
   "source": []
  },
  {
   "cell_type": "code",
   "execution_count": null,
   "metadata": {},
   "outputs": [],
   "source": [
    "import jedi"
   ]
  },
  {
   "cell_type": "code",
   "execution_count": null,
   "metadata": {},
   "outputs": [],
   "source": [
    "jedi.Script(\"import json;json.\").complete()"
   ]
  },
  {
   "cell_type": "code",
   "execution_count": null,
   "metadata": {},
   "outputs": [],
   "source": [
    "code = \"\"\"\n",
    "import pandas as pd\n",
    "d = pd.DataFrame({'a':[1], 'b':[1]})\n",
    "d.\n",
    "\"\"\""
   ]
  },
  {
   "cell_type": "code",
   "execution_count": null,
   "metadata": {},
   "outputs": [],
   "source": [
    "jedi.Script(code).complete()[0:10]"
   ]
  },
  {
   "cell_type": "code",
   "execution_count": null,
   "metadata": {},
   "outputs": [],
   "source": []
  },
  {
   "cell_type": "code",
   "execution_count": 38,
   "metadata": {},
   "outputs": [],
   "source": [
    "import pandas as pd\n",
    "d = pd.DataFrame({'a':[1], 'b':[1]})"
   ]
  },
  {
   "cell_type": "code",
   "execution_count": null,
   "metadata": {},
   "outputs": [],
   "source": []
  },
  {
   "cell_type": "code",
   "execution_count": null,
   "metadata": {},
   "outputs": [],
   "source": [
    "code2 = \"d.\"\n",
    "\n",
    "\n",
    "jedi.Interpreter(code2, [globals()]).complete()[0:10]"
   ]
  },
  {
   "cell_type": "code",
   "execution_count": null,
   "metadata": {},
   "outputs": [],
   "source": []
  },
  {
   "cell_type": "code",
   "execution_count": null,
   "metadata": {},
   "outputs": [],
   "source": []
  },
  {
   "cell_type": "code",
   "execution_count": null,
   "metadata": {},
   "outputs": [],
   "source": [
    "from siuba.siu import strip_symbolic, _\n",
    "import pandas as pd\n",
    "\n",
    "d = pd.DataFrame({'a':[1], 'b':[1]})"
   ]
  },
  {
   "cell_type": "code",
   "execution_count": null,
   "metadata": {},
   "outputs": [],
   "source": [
    "d2 = pd.DataFrame({\"hello\":[1], \"goodbye\":[1]})"
   ]
  },
  {
   "cell_type": "code",
   "execution_count": null,
   "metadata": {},
   "outputs": [],
   "source": [
    "symbol = _.a + _.b"
   ]
  },
  {
   "cell_type": "code",
   "execution_count": null,
   "metadata": {},
   "outputs": [],
   "source": [
    "symbol(d)"
   ]
  },
  {
   "cell_type": "code",
   "execution_count": null,
   "metadata": {},
   "outputs": [],
   "source": [
    "call = strip_symbolic(symbol)\n",
    "call(d)"
   ]
  },
  {
   "cell_type": "code",
   "execution_count": null,
   "metadata": {},
   "outputs": [],
   "source": []
  },
  {
   "cell_type": "code",
   "execution_count": 3,
   "metadata": {},
   "outputs": [],
   "source": [
    "from siuba.data import mtcars\n",
    "from siuba import mutate"
   ]
  },
  {
   "cell_type": "code",
   "execution_count": null,
   "metadata": {},
   "outputs": [],
   "source": [
    "f = _.hp.mean()"
   ]
  },
  {
   "cell_type": "code",
   "execution_count": null,
   "metadata": {},
   "outputs": [],
   "source": [
    "f"
   ]
  },
  {
   "cell_type": "code",
   "execution_count": null,
   "metadata": {},
   "outputs": [],
   "source": [
    "f(mtcars)"
   ]
  },
  {
   "cell_type": "code",
   "execution_count": null,
   "metadata": {},
   "outputs": [],
   "source": [
    "( mtcars >> mutate(cent = _.hp - _.hp.mean()) ).head()"
   ]
  },
  {
   "cell_type": "code",
   "execution_count": null,
   "metadata": {},
   "outputs": [],
   "source": [
    "op = _.hp - _.hp.mean()\n",
    "op"
   ]
  },
  {
   "cell_type": "code",
   "execution_count": null,
   "metadata": {},
   "outputs": [],
   "source": [
    "op(mtcars).head()"
   ]
  },
  {
   "cell_type": "code",
   "execution_count": null,
   "metadata": {},
   "outputs": [],
   "source": []
  },
  {
   "cell_type": "code",
   "execution_count": null,
   "metadata": {},
   "outputs": [],
   "source": [
    "mtcars[lambda x: x.mpg < 20]"
   ]
  },
  {
   "cell_type": "code",
   "execution_count": 52,
   "metadata": {},
   "outputs": [],
   "source": [
    "from siuba import *"
   ]
  },
  {
   "cell_type": "code",
   "execution_count": null,
   "metadata": {},
   "outputs": [],
   "source": []
  },
  {
   "cell_type": "code",
   "execution_count": 49,
   "metadata": {},
   "outputs": [],
   "source": [
    "dfs = [obj for name, obj in globals().items() if isinstance(obj, pd.DataFrame)]"
   ]
  },
  {
   "cell_type": "code",
   "execution_count": 51,
   "metadata": {},
   "outputs": [
    {
     "data": {
      "text/plain": [
       "Index(['a', 'b'], dtype='object')"
      ]
     },
     "execution_count": 51,
     "metadata": {},
     "output_type": "execute_result"
    }
   ],
   "source": [
    "dfs[-1].columns"
   ]
  },
  {
   "cell_type": "code",
   "execution_count": null,
   "metadata": {},
   "outputs": [],
   "source": []
  },
  {
   "cell_type": "code",
   "execution_count": 54,
   "metadata": {},
   "outputs": [],
   "source": [
    "from IPython import get_ipython"
   ]
  },
  {
   "cell_type": "code",
   "execution_count": 55,
   "metadata": {},
   "outputs": [],
   "source": [
    "ipython = get_ipython()"
   ]
  },
  {
   "cell_type": "code",
   "execution_count": 72,
   "metadata": {},
   "outputs": [],
   "source": [
    "w = ipython.magic('who_ls DataFrame')"
   ]
  },
  {
   "cell_type": "code",
   "execution_count": 73,
   "metadata": {},
   "outputs": [
    {
     "data": {
      "text/plain": [
       "['d', 'd2']"
      ]
     },
     "execution_count": 73,
     "metadata": {},
     "output_type": "execute_result"
    }
   ],
   "source": [
    "w"
   ]
  },
  {
   "cell_type": "code",
   "execution_count": 82,
   "metadata": {},
   "outputs": [
    {
     "name": "stdout",
     "output_type": "stream",
     "text": [
      "Help on method run_code in module IPython.core.interactiveshell:\n",
      "\n",
      "run_code(code_obj, result=None, *, async_=False) method of ipykernel.zmqshell.ZMQInteractiveShell instance\n",
      "    Execute a code object.\n",
      "    \n",
      "    When an exception occurs, self.showtraceback() is called to display a\n",
      "    traceback.\n",
      "    \n",
      "    Parameters\n",
      "    ----------\n",
      "    code_obj : code object\n",
      "      A compiled code object, to be executed\n",
      "    result : ExecutionResult, optional\n",
      "      An object to store exceptions that occur during execution.\n",
      "    async_ :  Bool (Experimental)\n",
      "      Attempt to run top-level asynchronous code in a default loop.\n",
      "    \n",
      "    Returns\n",
      "    -------\n",
      "    False : successful execution.\n",
      "    True : an error occurred.\n",
      "\n"
     ]
    }
   ],
   "source": [
    "help(ipython.run_code)"
   ]
  },
  {
   "cell_type": "code",
   "execution_count": 83,
   "metadata": {},
   "outputs": [],
   "source": [
    "w = ipython.run_line_magic('who_ls', 'DataFrame')"
   ]
  },
  {
   "cell_type": "code",
   "execution_count": 84,
   "metadata": {},
   "outputs": [
    {
     "data": {
      "text/plain": [
       "['d', 'd2']"
      ]
     },
     "execution_count": 84,
     "metadata": {},
     "output_type": "execute_result"
    }
   ],
   "source": [
    "w"
   ]
  },
  {
   "cell_type": "code",
   "execution_count": 88,
   "metadata": {},
   "outputs": [
    {
     "data": {
      "text/plain": [
       "['hello', 'goodbye']"
      ]
     },
     "execution_count": 88,
     "metadata": {},
     "output_type": "execute_result"
    }
   ],
   "source": [
    "list(ipython.ev('d2').columns)"
   ]
  },
  {
   "cell_type": "code",
   "execution_count": 89,
   "metadata": {},
   "outputs": [
    {
     "data": {
      "text/plain": [
       "['hello', 'goodbye']"
      ]
     },
     "execution_count": 89,
     "metadata": {},
     "output_type": "execute_result"
    }
   ],
   "source": [
    "list(ipython.ev(w[-1]).columns)"
   ]
  },
  {
   "cell_type": "code",
   "execution_count": null,
   "metadata": {},
   "outputs": [],
   "source": []
  }
 ],
 "metadata": {
  "kernelspec": {
   "display_name": ".venv",
   "language": "python",
   "name": ".venv"
  },
  "language_info": {
   "codemirror_mode": {
    "name": "ipython",
    "version": 3
   },
   "file_extension": ".py",
   "mimetype": "text/x-python",
   "name": "python",
   "nbconvert_exporter": "python",
   "pygments_lexer": "ipython3",
   "version": "3.6.10"
  }
 },
 "nbformat": 4,
 "nbformat_minor": 4
}
